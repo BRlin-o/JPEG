{
 "cells": [
  {
   "cell_type": "code",
   "execution_count": 1,
   "metadata": {},
   "outputs": [],
   "source": [
    "import imageio\n",
    "from matplotlib import pyplot as plt\n",
    "from JPEG import JPEG\n",
    "from libs.JPEGStandardHuffmanTable import STD_HUFTAB_LUMIN_DC, STD_HUFTAB_CHROMIN_DC, STD_HUFTAB_LUMIN_AC, STD_HUFTAB_CHROMIN_AC"
   ]
  },
  {
   "cell_type": "code",
   "execution_count": 15,
   "metadata": {},
   "outputs": [
    {
     "name": "stderr",
     "output_type": "stream",
     "text": [
      "C:\\Users\\BREND\\AppData\\Local\\Temp\\ipykernel_14496\\3474917347.py:12: DeprecationWarning: Starting with ImageIO v3 the behavior of this function will switch to that of iio.v3.imread. To keep the current behavior (and make this warning dissapear) use `import imageio.v2 as imageio` or call `imageio.v2.imread` directly.\n",
      "  Images.append(imageio.imread(path))\n"
     ]
    },
    {
     "data": {
      "text/plain": [
       "({'date': 1661849750.1377437,\n",
       "  'file_path': 'test_gray.jpg',\n",
       "  'size': (512, 512),\n",
       "  'quality': 70,\n",
       "  'file_size': 44471,\n",
       "  'compression_ratio': '511.20%',\n",
       "  'run_time': 1.3125677108764648,\n",
       "  'PSNR': 33.27194616308717},\n",
       " 0)"
      ]
     },
     "execution_count": 15,
     "metadata": {},
     "output_type": "execute_result"
    }
   ],
   "source": [
    "\n",
    "Image_set = dict(\n",
    "    cover = \"../_Dataset/Lenna/lena_color.gif\"\n",
    "    # gray = \"./test_gray.jpg\"\n",
    ")\n",
    "\n",
    "Images_name = []\n",
    "Images = []\n",
    "Images_path = []\n",
    "Images_len = 0\n",
    "for name, path in Image_set.items():\n",
    "    Images_name.append(name)\n",
    "    Images.append(imageio.imread(path))\n",
    "    Images_path.append(path)\n",
    "    Images_len += 1\n",
    "\n",
    "jpeg = JPEG(image_path = Images_path[0])\n",
    "jpeg.useStandardHuffmanTable()\n",
    "# jpeg.useDefineTable()\n",
    "# jpeg.HuffmanTableTypeIndex = 2\n",
    "log = dict()\n",
    "jpeg.encode(quality=70, isColor=True, save_path=\"./test_gray\", finished_info=log)\n",
    "log, jpeg.HuffmanTableTypeIndex"
   ]
  },
  {
   "cell_type": "markdown",
   "metadata": {},
   "source": [
    "## Deqantized"
   ]
  },
  {
   "cell_type": "code",
   "execution_count": null,
   "metadata": {},
   "outputs": [],
   "source": []
  },
  {
   "cell_type": "markdown",
   "metadata": {},
   "source": [
    "## Quantized for RDH"
   ]
  },
  {
   "cell_type": "code",
   "execution_count": 3,
   "metadata": {},
   "outputs": [
    {
     "data": {
      "text/plain": [
       "(array([[ 2.33330000e+01,  1.24147651e+00,  3.56126619e-01, ...,\n",
       "         -2.93213927e-01, -3.00654210e-01, -1.03900037e-01],\n",
       "        [ 1.23495295e+00, -1.67304618e-01, -1.87568039e-01, ...,\n",
       "         -2.02550655e-01, -8.47239535e-02, -1.74568428e-01],\n",
       "        [-5.37635795e-01,  1.47120839e-01,  2.07073519e-02, ...,\n",
       "          1.10077788e-01,  3.74437445e-03,  7.87036117e-02],\n",
       "        ...,\n",
       "        [-1.64592765e-01, -5.65239852e-02,  3.57404164e-01, ...,\n",
       "          7.39995127e-02, -1.06363426e-02, -5.76848729e-02],\n",
       "        [ 1.80716958e-01, -4.72414994e-02, -1.12246106e-01, ...,\n",
       "          1.39564076e-04,  2.01836269e-02,  2.10801282e-03],\n",
       "        [-5.72125805e-02, -4.98070924e-02, -1.48639283e-02, ...,\n",
       "         -8.86287379e-02,  8.19375197e-02,  1.40014514e-02]]),\n",
       " array([[23.,  1.,  0., ..., -0., -0., -0.],\n",
       "        [ 1., -0., -0., ..., -0., -0., -0.],\n",
       "        [-1.,  0.,  0., ...,  0.,  0.,  0.],\n",
       "        ...,\n",
       "        [-0., -0.,  0., ...,  0., -0., -0.],\n",
       "        [ 0., -0., -0., ...,  0.,  0.,  0.],\n",
       "        [-0., -0., -0., ..., -0.,  0.,  0.]]))"
      ]
     },
     "execution_count": 3,
     "metadata": {},
     "output_type": "execute_result"
    }
   ],
   "source": [
    "import numpy as np\n",
    "quality = 70\n",
    "\n",
    "jpeg = JPEG(image_path = Images_path[0])\n",
    "jpeg.quality = quality\n",
    "jpeg.useStandardHuffmanTable()\n",
    "jpeg.block_size = 8\n",
    "\n",
    "jpeg._img2ycbcr(isColor=False)\n",
    "jpeg._ycbcrDCT()\n",
    "\n",
    "jpeg.QuantizationTable = jpeg.quantizedTable(jpeg.quality)\n",
    "quant = np.zeros(jpeg.ycbcr.shape, dtype=jpeg.fileDtype)\n",
    "quantized = jpeg.dct[:, :, 0]/np.tile(jpeg.QuantizationTable[jpeg.color_components[0][\"Quantization_table_index\"]], (jpeg.height//8, jpeg.width//8))\n",
    "quantized_around = np.around(quantized)\n",
    "\n",
    "quantized, quantized_around"
   ]
  },
  {
   "cell_type": "code",
   "execution_count": 4,
   "metadata": {},
   "outputs": [
    {
     "data": {
      "text/plain": [
       "(array([[23,  0,  0, ...,  0,  0,  0],\n",
       "        [ 0,  0,  0, ...,  0,  0,  0],\n",
       "        [ 0,  0,  0, ...,  0,  0,  0],\n",
       "        ...,\n",
       "        [ 0,  0,  0, ...,  0,  0,  0],\n",
       "        [ 0,  0,  0, ...,  0,  0,  0],\n",
       "        [ 0,  0,  0, ...,  0,  0,  0]]),\n",
       " array([[ 0.,  1.,  0., ..., -0., -0., -0.],\n",
       "        [ 1., -0., -0., ..., -0., -0., -0.],\n",
       "        [-1.,  0.,  0., ...,  0.,  0.,  0.],\n",
       "        ...,\n",
       "        [-0., -0.,  0., ...,  0., -0., -0.],\n",
       "        [ 0., -0., -0., ...,  0.,  0.,  0.],\n",
       "        [-0., -0., -0., ..., -0.,  0.,  0.]]))"
      ]
     },
     "execution_count": 4,
     "metadata": {},
     "output_type": "execute_result"
    }
   ],
   "source": [
    "quantized_around_DC = np.zeros((quantized_around.shape[0], quantized_around.shape[1]), dtype=jpeg.fileDtype)\n",
    "for i in range(0, quantized_around_DC.shape[0], jpeg.block_size):\n",
    "    for j in range(0, quantized_around_DC.shape[1], jpeg.block_size):\n",
    "        quantized_around_DC[i, j] = quantized_around[i, j]\n",
    "\n",
    "quantized_around_AC = quantized_around - quantized_around_DC\n",
    "\n",
    "quantized_around_DC, quantized_around_AC"
   ]
  },
  {
   "cell_type": "code",
   "execution_count": 5,
   "metadata": {},
   "outputs": [
    {
     "data": {
      "text/plain": [
       "array([-2.04643844, -1.79736692, -1.53269884, ..., -2.16115964,\n",
       "       -1.60014385,  1.63298864])"
      ]
     },
     "execution_count": 5,
     "metadata": {},
     "output_type": "execute_result"
    }
   ],
   "source": [
    "quantized[abs(quantized_around_AC)==2]"
   ]
  },
  {
   "cell_type": "code",
   "execution_count": 6,
   "metadata": {},
   "outputs": [
    {
     "data": {
      "text/plain": [
       "array([-1, -1, -1, ..., -1, -1,  1], dtype=int8)"
      ]
     },
     "execution_count": 6,
     "metadata": {},
     "output_type": "execute_result"
    }
   ],
   "source": [
    "posi_value = quantized[abs(quantized_around_AC)==2]>0\n",
    "sym = np.zeros((len(posi_value)), dtype=np.int8)\n",
    "sym[posi_value==False] = -1\n",
    "sym[posi_value==True] = 1\n",
    "sym"
   ]
  },
  {
   "cell_type": "code",
   "execution_count": 7,
   "metadata": {},
   "outputs": [
    {
     "data": {
      "text/plain": [
       "(array([-2., -2., -2., ..., -2., -2.,  2.]),\n",
       " array([-2.04643844, -1.79736692, -1.53269884, ..., -2.16115964,\n",
       "        -1.60014385,  1.63298864]))"
      ]
     },
     "execution_count": 7,
     "metadata": {},
     "output_type": "execute_result"
    }
   ],
   "source": [
    "shuffledBlocks = quantized_around_AC[abs(quantized_around_AC)==2]\n",
    "shuffledBlocks, quantized[abs(quantized_around_AC)==2]"
   ]
  },
  {
   "cell_type": "code",
   "execution_count": 8,
   "metadata": {},
   "outputs": [
    {
     "data": {
      "text/plain": [
       "array([-3., -2., -2., ..., -3., -2.,  2.])"
      ]
     },
     "execution_count": 8,
     "metadata": {},
     "output_type": "execute_result"
    }
   ],
   "source": [
    "posi_value = shuffledBlocks[abs(quantized[abs(quantized_around_AC)==2])>2]>0\n",
    "sym = np.zeros((len(posi_value)), dtype=np.int8)\n",
    "sym[posi_value==False] = -1\n",
    "sym[posi_value==True] = 1\n",
    "# shuffledBlocks, sym\n",
    "shuffledBlocks[abs(quantized[abs(quantized_around_AC)==2])>2] = 3*sym\n",
    "shuffledBlocks"
   ]
  },
  {
   "cell_type": "code",
   "execution_count": 9,
   "metadata": {},
   "outputs": [
    {
     "data": {
      "text/plain": [
       "array([-3., -1., -1., ..., -3., -1.,  1.])"
      ]
     },
     "execution_count": 9,
     "metadata": {},
     "output_type": "execute_result"
    }
   ],
   "source": [
    "posi_value = shuffledBlocks[abs(quantized[abs(quantized_around_AC)==2])<=2]>0\n",
    "sym = np.zeros((len(posi_value)), dtype=np.int8)\n",
    "sym[posi_value==False] = -1\n",
    "sym[posi_value==True] = 1\n",
    "# shuffledBlocks, sym\n",
    "shuffledBlocks[abs(quantized[abs(quantized_around_AC)==2])<=2] = 1*sym\n",
    "shuffledBlocks"
   ]
  },
  {
   "cell_type": "code",
   "execution_count": 10,
   "metadata": {},
   "outputs": [
    {
     "data": {
      "text/plain": [
       "array([], dtype=float64)"
      ]
     },
     "execution_count": 10,
     "metadata": {},
     "output_type": "execute_result"
    }
   ],
   "source": [
    "quantized_around_AC[abs(quantized_around_AC)==2] = shuffledBlocks\n",
    "\n",
    "quantized_around_AC[abs(quantized_around_AC) == 2]"
   ]
  },
  {
   "cell_type": "code",
   "execution_count": 11,
   "metadata": {},
   "outputs": [
    {
     "data": {
      "text/plain": [
       "array([[23.,  1.,  0., ...,  0.,  0.,  0.],\n",
       "       [ 1.,  0.,  0., ...,  0.,  0.,  0.],\n",
       "       [-1.,  0.,  0., ...,  0.,  0.,  0.],\n",
       "       ...,\n",
       "       [ 0.,  0.,  0., ...,  0.,  0.,  0.],\n",
       "       [ 0.,  0.,  0., ...,  0.,  0.,  0.],\n",
       "       [ 0.,  0.,  0., ...,  0.,  0.,  0.]])"
      ]
     },
     "execution_count": 11,
     "metadata": {},
     "output_type": "execute_result"
    }
   ],
   "source": [
    "quantized_around = quantized_around_DC + quantized_around_AC\n",
    "quantized_around"
   ]
  },
  {
   "cell_type": "code",
   "execution_count": 12,
   "metadata": {},
   "outputs": [],
   "source": [
    "jpeg.quant = np.zeros(jpeg.ycbcr.shape, dtype=jpeg.fileDtype)\n",
    "\n",
    "jpeg.quant[:, :, 0] = quantized_around"
   ]
  },
  {
   "cell_type": "code",
   "execution_count": 13,
   "metadata": {},
   "outputs": [
    {
     "data": {
      "text/plain": [
       "True"
      ]
     },
     "execution_count": 13,
     "metadata": {},
     "output_type": "execute_result"
    }
   ],
   "source": [
    "jpeg._ycbcrZigzag()\n",
    "jpeg._DPCMandRLE()\n",
    "jpeg.HuffmanTableBuilding(HuffmanTableTypeIndex=jpeg.HuffmanTableTypeIndex)\n",
    "jpeg._HuffmanEncoding()\n",
    "jpeg._EntropyCodedStgment()\n",
    "jpeg._writeToFile(save_path=\"./Lena_Q{}_M({})\".format(quality, \"RDH Shuffled\"))"
   ]
  },
  {
   "cell_type": "code",
   "execution_count": 14,
   "metadata": {},
   "outputs": [
    {
     "data": {
      "text/plain": [
       "{'date': 1661841900.4962435,\n",
       " 'file_path': 'Lena_Q70_MRDH Shuffled.jpg',\n",
       " 'size': (512, 512),\n",
       " 'quality': 70,\n",
       " 'file_size': 32127,\n",
       " 'compression_ratio': '707.61%',\n",
       " 'PSNR': 15.73138103082989}"
      ]
     },
     "execution_count": 14,
     "metadata": {},
     "output_type": "execute_result"
    }
   ],
   "source": [
    "jpeg.analize()"
   ]
  },
  {
   "cell_type": "markdown",
   "metadata": {},
   "source": [
    "## HuffmanTree"
   ]
  },
  {
   "cell_type": "code",
   "execution_count": 8,
   "metadata": {},
   "outputs": [
    {
     "data": {
      "text/plain": [
       "{'d': '00',\n",
       " 'e': '010',\n",
       " 'c': '011',\n",
       " 'a': '100',\n",
       " 'f': '101',\n",
       " 'b': '110',\n",
       " 'g': '1110'}"
      ]
     },
     "execution_count": 8,
     "metadata": {},
     "output_type": "execute_result"
    }
   ],
   "source": [
    "from libs.HuffmanTree import LimitedLenHuffmanTree\n",
    "\n",
    "# freq_table = [\"A\"]*14+[\"B\"]*6+[\"C\"]*3+[\"D\"]*2\n",
    "freq_table = \"a\"*16+\"b\"*8+\"c\"*19+\"d\"*32+\"e\"*21+\"f\"*10+\"g\"*5\n",
    "\n",
    "HuffmanTree = LimitedLenHuffmanTree.init_arr(freq_table)\n",
    "HuffmanTable = HuffmanTree.create_huffman_table()\n",
    "HuffmanTable"
   ]
  },
  {
   "cell_type": "code",
   "execution_count": 6,
   "metadata": {},
   "outputs": [
    {
     "data": {
      "text/plain": [
       "{'A': '00', 'B': '01', 'C': '10', 'D': '110'}"
      ]
     },
     "execution_count": 6,
     "metadata": {},
     "output_type": "execute_result"
    }
   ],
   "source": []
  },
  {
   "cell_type": "code",
   "execution_count": null,
   "metadata": {},
   "outputs": [],
   "source": []
  }
 ],
 "metadata": {
  "kernelspec": {
   "display_name": "Python 3.9.12 ('py3.9_imageResearch')",
   "language": "python",
   "name": "python3"
  },
  "language_info": {
   "codemirror_mode": {
    "name": "ipython",
    "version": 3
   },
   "file_extension": ".py",
   "mimetype": "text/x-python",
   "name": "python",
   "nbconvert_exporter": "python",
   "pygments_lexer": "ipython3",
   "version": "3.9.12"
  },
  "orig_nbformat": 4,
  "vscode": {
   "interpreter": {
    "hash": "c4a797a42c611eca986cdbc4702bfc596f0a816c27f59922ac2c7b36c6fbfc86"
   }
  }
 },
 "nbformat": 4,
 "nbformat_minor": 2
}
